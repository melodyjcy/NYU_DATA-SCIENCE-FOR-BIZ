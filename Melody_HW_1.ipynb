{
  "cells": [
    {
      "cell_type": "markdown",
      "metadata": {
        "id": "T7iHgNQmofpU"
      },
      "source": [
        "To open notebook in Colab please click below:\n",
        "\n",
        "<a href=\"https://colab.research.google.com/github/pearl-yu/foster_2022fall/blob/2022-master/Homeworks/HW%201.ipynb\" target=\"_parent\"> <img src=\"https://colab.research.google.com/assets/colab-badge.svg\" alt=\"Open In Colab\" /> </a>"
      ]
    },
    {
      "cell_type": "code",
      "execution_count": 11,
      "metadata": {
        "scrolled": true,
        "id": "taYZ08KQie-l",
        "colab": {
          "base_uri": "https://localhost:8080/"
        },
        "outputId": "dff2e3d6-eb44-4eed-b65f-e483beb448d6"
      },
      "outputs": [
        {
          "output_type": "stream",
          "name": "stdout",
          "text": [
            "Cloning into 'foster_2022fall'...\n",
            "remote: Enumerating objects: 1249, done.\u001b[K\n",
            "remote: Counting objects: 100% (183/183), done.\u001b[K\n",
            "remote: Compressing objects: 100% (91/91), done.\u001b[K\n",
            "remote: Total 1249 (delta 101), reused 153 (delta 88), pack-reused 1066\u001b[K\n",
            "Receiving objects: 100% (1249/1249), 66.21 MiB | 19.29 MiB/s, done.\n",
            "Resolving deltas: 100% (741/741), done.\n",
            "Checking out files: 100% (80/80), done.\n",
            "/content/foster_2022fall/Homeworks\n"
          ]
        }
      ],
      "source": [
        "#If opening in colab run this cell\n",
        "!git clone https://github.com/pearl-yu/foster_2022fall\n",
        "%cd foster_2022fall/Homeworks/"
      ]
    },
    {
      "cell_type": "markdown",
      "metadata": {
        "id": "UizlV9CJie-m"
      },
      "source": [
        "# Homework 1"
      ]
    },
    {
      "cell_type": "markdown",
      "metadata": {
        "id": "f5ESX9EZie-m"
      },
      "source": [
        "## Part 2: Graduate admissions case study"
      ]
    },
    {
      "cell_type": "markdown",
      "metadata": {
        "id": "cvRnxLIKie-n"
      },
      "source": [
        "You've been hired by Hudson University as a data analyst for the Graduate Admissions Department. Since the admission process is long and tedious, it often results in a bottleneck for other subsequent tasks, such as planning the necessary resources to accommodate the admitted students (e.g. housing, classes, etc). You have been asked to build a model to predict which students will be admitted using the following historical data: \n",
        "\n",
        "1. Serial No. (serves as unique identifier)\n",
        "2. GRE Scores (out of 340) \n",
        "3. TOEFL Scores (out of 120) \n",
        "4. University Rating (out of 5).\n",
        "5. Statement of Purpose Strength (out of 5)\n",
        "6. Letter of Recommendation Strength (out of 5) \n",
        "7. Undergraduate GPA (out of 10) \n",
        "8. Research Experience (either 0 or 1) \n",
        "9. Chance of Admit (ranging from 0 to 1)\n",
        "\n",
        "The chances of admit for the applicants in your data were assessed by an expert. Given that this list of application attributes would be available early in the admission process for future applications (except for Chance of Admit), a model predicting chances of admit would allow planning tasks to start earlier."
      ]
    },
    {
      "cell_type": "markdown",
      "source": [
        "For the following numbered items, **follow any directions and answer any questions**.  Optional parts carry no credit, but should be helpful for your learning."
      ],
      "metadata": {
        "id": "9S9k1lURqMU4"
      }
    },
    {
      "cell_type": "code",
      "execution_count": 12,
      "metadata": {
        "id": "XXxVWT4Wie-n"
      },
      "outputs": [],
      "source": [
        "# Some libraries you may need\n",
        "import pandas as pd\n",
        "import numpy as np\n",
        "import matplotlib.pyplot as plt\n",
        "import seaborn as sns\n",
        "\n",
        "# Trick to display plots inline with the rest of your notebook.\n",
        "%matplotlib inline"
      ]
    },
    {
      "cell_type": "markdown",
      "metadata": {
        "id": "sn6E2tyzie-o"
      },
      "source": [
        "** 1. Load the homework data into a pandas data frame. Print the number of rows and columns in the dataset. **"
      ]
    },
    {
      "cell_type": "code",
      "execution_count": 13,
      "metadata": {
        "id": "3TNufVkiie-o",
        "colab": {
          "base_uri": "https://localhost:8080/"
        },
        "outputId": "6e562b64-a267-48cb-a411-07bd3804606a"
      },
      "outputs": [
        {
          "output_type": "stream",
          "name": "stdout",
          "text": [
            "500\n",
            "9\n"
          ]
        }
      ],
      "source": [
        "data_path = \"./data/data-hw1.csv\"\n",
        "#YOUR CODE HERE\n",
        "df = pd.read_csv(data_path).dropna()\n",
        "print(len(df))\n",
        "print(len(df.columns))"
      ]
    },
    {
      "cell_type": "markdown",
      "metadata": {
        "id": "_BAGtauvie-p"
      },
      "source": [
        "(Optional) Rename the columns in the dataframe to manipulate the data more easily. This will make your life easier.  Show a few lines with the new column names."
      ]
    },
    {
      "cell_type": "code",
      "execution_count": 14,
      "metadata": {
        "id": "sYs-F0i3ie-p",
        "colab": {
          "base_uri": "https://localhost:8080/",
          "height": 81
        },
        "outputId": "855b8c2d-ffd5-4606-e1cc-df92aa578756"
      },
      "outputs": [
        {
          "output_type": "execute_result",
          "data": {
            "text/plain": [
              "   ID  GRE  TOEFL  Rating  SOP  LOR  CGPA  Research  Admit\n",
              "0   1  337    118       4  4.5  4.5  9.65         1   0.92"
            ],
            "text/html": [
              "\n",
              "  <div id=\"df-2a0fecf1-fb45-44b8-8e38-f0986397f7e4\">\n",
              "    <div class=\"colab-df-container\">\n",
              "      <div>\n",
              "<style scoped>\n",
              "    .dataframe tbody tr th:only-of-type {\n",
              "        vertical-align: middle;\n",
              "    }\n",
              "\n",
              "    .dataframe tbody tr th {\n",
              "        vertical-align: top;\n",
              "    }\n",
              "\n",
              "    .dataframe thead th {\n",
              "        text-align: right;\n",
              "    }\n",
              "</style>\n",
              "<table border=\"1\" class=\"dataframe\">\n",
              "  <thead>\n",
              "    <tr style=\"text-align: right;\">\n",
              "      <th></th>\n",
              "      <th>ID</th>\n",
              "      <th>GRE</th>\n",
              "      <th>TOEFL</th>\n",
              "      <th>Rating</th>\n",
              "      <th>SOP</th>\n",
              "      <th>LOR</th>\n",
              "      <th>CGPA</th>\n",
              "      <th>Research</th>\n",
              "      <th>Admit</th>\n",
              "    </tr>\n",
              "  </thead>\n",
              "  <tbody>\n",
              "    <tr>\n",
              "      <th>0</th>\n",
              "      <td>1</td>\n",
              "      <td>337</td>\n",
              "      <td>118</td>\n",
              "      <td>4</td>\n",
              "      <td>4.5</td>\n",
              "      <td>4.5</td>\n",
              "      <td>9.65</td>\n",
              "      <td>1</td>\n",
              "      <td>0.92</td>\n",
              "    </tr>\n",
              "  </tbody>\n",
              "</table>\n",
              "</div>\n",
              "      <button class=\"colab-df-convert\" onclick=\"convertToInteractive('df-2a0fecf1-fb45-44b8-8e38-f0986397f7e4')\"\n",
              "              title=\"Convert this dataframe to an interactive table.\"\n",
              "              style=\"display:none;\">\n",
              "        \n",
              "  <svg xmlns=\"http://www.w3.org/2000/svg\" height=\"24px\"viewBox=\"0 0 24 24\"\n",
              "       width=\"24px\">\n",
              "    <path d=\"M0 0h24v24H0V0z\" fill=\"none\"/>\n",
              "    <path d=\"M18.56 5.44l.94 2.06.94-2.06 2.06-.94-2.06-.94-.94-2.06-.94 2.06-2.06.94zm-11 1L8.5 8.5l.94-2.06 2.06-.94-2.06-.94L8.5 2.5l-.94 2.06-2.06.94zm10 10l.94 2.06.94-2.06 2.06-.94-2.06-.94-.94-2.06-.94 2.06-2.06.94z\"/><path d=\"M17.41 7.96l-1.37-1.37c-.4-.4-.92-.59-1.43-.59-.52 0-1.04.2-1.43.59L10.3 9.45l-7.72 7.72c-.78.78-.78 2.05 0 2.83L4 21.41c.39.39.9.59 1.41.59.51 0 1.02-.2 1.41-.59l7.78-7.78 2.81-2.81c.8-.78.8-2.07 0-2.86zM5.41 20L4 18.59l7.72-7.72 1.47 1.35L5.41 20z\"/>\n",
              "  </svg>\n",
              "      </button>\n",
              "      \n",
              "  <style>\n",
              "    .colab-df-container {\n",
              "      display:flex;\n",
              "      flex-wrap:wrap;\n",
              "      gap: 12px;\n",
              "    }\n",
              "\n",
              "    .colab-df-convert {\n",
              "      background-color: #E8F0FE;\n",
              "      border: none;\n",
              "      border-radius: 50%;\n",
              "      cursor: pointer;\n",
              "      display: none;\n",
              "      fill: #1967D2;\n",
              "      height: 32px;\n",
              "      padding: 0 0 0 0;\n",
              "      width: 32px;\n",
              "    }\n",
              "\n",
              "    .colab-df-convert:hover {\n",
              "      background-color: #E2EBFA;\n",
              "      box-shadow: 0px 1px 2px rgba(60, 64, 67, 0.3), 0px 1px 3px 1px rgba(60, 64, 67, 0.15);\n",
              "      fill: #174EA6;\n",
              "    }\n",
              "\n",
              "    [theme=dark] .colab-df-convert {\n",
              "      background-color: #3B4455;\n",
              "      fill: #D2E3FC;\n",
              "    }\n",
              "\n",
              "    [theme=dark] .colab-df-convert:hover {\n",
              "      background-color: #434B5C;\n",
              "      box-shadow: 0px 1px 3px 1px rgba(0, 0, 0, 0.15);\n",
              "      filter: drop-shadow(0px 1px 2px rgba(0, 0, 0, 0.3));\n",
              "      fill: #FFFFFF;\n",
              "    }\n",
              "  </style>\n",
              "\n",
              "      <script>\n",
              "        const buttonEl =\n",
              "          document.querySelector('#df-2a0fecf1-fb45-44b8-8e38-f0986397f7e4 button.colab-df-convert');\n",
              "        buttonEl.style.display =\n",
              "          google.colab.kernel.accessAllowed ? 'block' : 'none';\n",
              "\n",
              "        async function convertToInteractive(key) {\n",
              "          const element = document.querySelector('#df-2a0fecf1-fb45-44b8-8e38-f0986397f7e4');\n",
              "          const dataTable =\n",
              "            await google.colab.kernel.invokeFunction('convertToInteractive',\n",
              "                                                     [key], {});\n",
              "          if (!dataTable) return;\n",
              "\n",
              "          const docLinkHtml = 'Like what you see? Visit the ' +\n",
              "            '<a target=\"_blank\" href=https://colab.research.google.com/notebooks/data_table.ipynb>data table notebook</a>'\n",
              "            + ' to learn more about interactive tables.';\n",
              "          element.innerHTML = '';\n",
              "          dataTable['output_type'] = 'display_data';\n",
              "          await google.colab.output.renderOutput(dataTable, element);\n",
              "          const docLink = document.createElement('div');\n",
              "          docLink.innerHTML = docLinkHtml;\n",
              "          element.appendChild(docLink);\n",
              "        }\n",
              "      </script>\n",
              "    </div>\n",
              "  </div>\n",
              "  "
            ]
          },
          "metadata": {},
          "execution_count": 14
        }
      ],
      "source": [
        "# Put your (optional) answer here.\n",
        "# Here are some suggested column names: \"ID\", \"GRE\", \"TOEFL\", \"Rating\", \"SOP\", \"LOR\", \"CGPA\", \"Research\", \"Admit\"\n",
        "df = df.rename(columns={'Serial No.': 'ID', 'GRE Score': 'GRE', 'TOEFL Score': 'TOEFL', 'University Rating': 'Rating', 'Chance of Admit': 'Admit'})\n",
        "# Take a look at the column names\n",
        "df.head(1)"
      ]
    },
    {
      "cell_type": "markdown",
      "metadata": {
        "id": "pwekwuayie-q"
      },
      "source": [
        "** 2. Show descriptive statistics for all columns. **"
      ]
    },
    {
      "cell_type": "code",
      "execution_count": 15,
      "metadata": {
        "collapsed": true,
        "scrolled": true,
        "id": "EXhMChxhie-q",
        "colab": {
          "base_uri": "https://localhost:8080/",
          "height": 300
        },
        "outputId": "a156b5b4-1c80-4987-fb9f-f3bcaedc8655"
      },
      "outputs": [
        {
          "output_type": "execute_result",
          "data": {
            "text/plain": [
              "               ID         GRE       TOEFL      Rating         SOP        LOR  \\\n",
              "count  500.000000  500.000000  500.000000  500.000000  500.000000  500.00000   \n",
              "mean   250.500000  316.472000  107.192000    3.114000    3.374000    3.48400   \n",
              "std    144.481833   11.295148    6.081868    1.143512    0.991004    0.92545   \n",
              "min      1.000000  290.000000   92.000000    1.000000    1.000000    1.00000   \n",
              "25%    125.750000  308.000000  103.000000    2.000000    2.500000    3.00000   \n",
              "50%    250.500000  317.000000  107.000000    3.000000    3.500000    3.50000   \n",
              "75%    375.250000  325.000000  112.000000    4.000000    4.000000    4.00000   \n",
              "max    500.000000  340.000000  120.000000    5.000000    5.000000    5.00000   \n",
              "\n",
              "             CGPA    Research      Admit  \n",
              "count  500.000000  500.000000  500.00000  \n",
              "mean     8.576440    0.560000    0.72174  \n",
              "std      0.604813    0.496884    0.14114  \n",
              "min      6.800000    0.000000    0.34000  \n",
              "25%      8.127500    0.000000    0.63000  \n",
              "50%      8.560000    1.000000    0.72000  \n",
              "75%      9.040000    1.000000    0.82000  \n",
              "max      9.920000    1.000000    0.97000  "
            ],
            "text/html": [
              "\n",
              "  <div id=\"df-f863d668-d998-454a-bc00-b3fdf2b609aa\">\n",
              "    <div class=\"colab-df-container\">\n",
              "      <div>\n",
              "<style scoped>\n",
              "    .dataframe tbody tr th:only-of-type {\n",
              "        vertical-align: middle;\n",
              "    }\n",
              "\n",
              "    .dataframe tbody tr th {\n",
              "        vertical-align: top;\n",
              "    }\n",
              "\n",
              "    .dataframe thead th {\n",
              "        text-align: right;\n",
              "    }\n",
              "</style>\n",
              "<table border=\"1\" class=\"dataframe\">\n",
              "  <thead>\n",
              "    <tr style=\"text-align: right;\">\n",
              "      <th></th>\n",
              "      <th>ID</th>\n",
              "      <th>GRE</th>\n",
              "      <th>TOEFL</th>\n",
              "      <th>Rating</th>\n",
              "      <th>SOP</th>\n",
              "      <th>LOR</th>\n",
              "      <th>CGPA</th>\n",
              "      <th>Research</th>\n",
              "      <th>Admit</th>\n",
              "    </tr>\n",
              "  </thead>\n",
              "  <tbody>\n",
              "    <tr>\n",
              "      <th>count</th>\n",
              "      <td>500.000000</td>\n",
              "      <td>500.000000</td>\n",
              "      <td>500.000000</td>\n",
              "      <td>500.000000</td>\n",
              "      <td>500.000000</td>\n",
              "      <td>500.00000</td>\n",
              "      <td>500.000000</td>\n",
              "      <td>500.000000</td>\n",
              "      <td>500.00000</td>\n",
              "    </tr>\n",
              "    <tr>\n",
              "      <th>mean</th>\n",
              "      <td>250.500000</td>\n",
              "      <td>316.472000</td>\n",
              "      <td>107.192000</td>\n",
              "      <td>3.114000</td>\n",
              "      <td>3.374000</td>\n",
              "      <td>3.48400</td>\n",
              "      <td>8.576440</td>\n",
              "      <td>0.560000</td>\n",
              "      <td>0.72174</td>\n",
              "    </tr>\n",
              "    <tr>\n",
              "      <th>std</th>\n",
              "      <td>144.481833</td>\n",
              "      <td>11.295148</td>\n",
              "      <td>6.081868</td>\n",
              "      <td>1.143512</td>\n",
              "      <td>0.991004</td>\n",
              "      <td>0.92545</td>\n",
              "      <td>0.604813</td>\n",
              "      <td>0.496884</td>\n",
              "      <td>0.14114</td>\n",
              "    </tr>\n",
              "    <tr>\n",
              "      <th>min</th>\n",
              "      <td>1.000000</td>\n",
              "      <td>290.000000</td>\n",
              "      <td>92.000000</td>\n",
              "      <td>1.000000</td>\n",
              "      <td>1.000000</td>\n",
              "      <td>1.00000</td>\n",
              "      <td>6.800000</td>\n",
              "      <td>0.000000</td>\n",
              "      <td>0.34000</td>\n",
              "    </tr>\n",
              "    <tr>\n",
              "      <th>25%</th>\n",
              "      <td>125.750000</td>\n",
              "      <td>308.000000</td>\n",
              "      <td>103.000000</td>\n",
              "      <td>2.000000</td>\n",
              "      <td>2.500000</td>\n",
              "      <td>3.00000</td>\n",
              "      <td>8.127500</td>\n",
              "      <td>0.000000</td>\n",
              "      <td>0.63000</td>\n",
              "    </tr>\n",
              "    <tr>\n",
              "      <th>50%</th>\n",
              "      <td>250.500000</td>\n",
              "      <td>317.000000</td>\n",
              "      <td>107.000000</td>\n",
              "      <td>3.000000</td>\n",
              "      <td>3.500000</td>\n",
              "      <td>3.50000</td>\n",
              "      <td>8.560000</td>\n",
              "      <td>1.000000</td>\n",
              "      <td>0.72000</td>\n",
              "    </tr>\n",
              "    <tr>\n",
              "      <th>75%</th>\n",
              "      <td>375.250000</td>\n",
              "      <td>325.000000</td>\n",
              "      <td>112.000000</td>\n",
              "      <td>4.000000</td>\n",
              "      <td>4.000000</td>\n",
              "      <td>4.00000</td>\n",
              "      <td>9.040000</td>\n",
              "      <td>1.000000</td>\n",
              "      <td>0.82000</td>\n",
              "    </tr>\n",
              "    <tr>\n",
              "      <th>max</th>\n",
              "      <td>500.000000</td>\n",
              "      <td>340.000000</td>\n",
              "      <td>120.000000</td>\n",
              "      <td>5.000000</td>\n",
              "      <td>5.000000</td>\n",
              "      <td>5.00000</td>\n",
              "      <td>9.920000</td>\n",
              "      <td>1.000000</td>\n",
              "      <td>0.97000</td>\n",
              "    </tr>\n",
              "  </tbody>\n",
              "</table>\n",
              "</div>\n",
              "      <button class=\"colab-df-convert\" onclick=\"convertToInteractive('df-f863d668-d998-454a-bc00-b3fdf2b609aa')\"\n",
              "              title=\"Convert this dataframe to an interactive table.\"\n",
              "              style=\"display:none;\">\n",
              "        \n",
              "  <svg xmlns=\"http://www.w3.org/2000/svg\" height=\"24px\"viewBox=\"0 0 24 24\"\n",
              "       width=\"24px\">\n",
              "    <path d=\"M0 0h24v24H0V0z\" fill=\"none\"/>\n",
              "    <path d=\"M18.56 5.44l.94 2.06.94-2.06 2.06-.94-2.06-.94-.94-2.06-.94 2.06-2.06.94zm-11 1L8.5 8.5l.94-2.06 2.06-.94-2.06-.94L8.5 2.5l-.94 2.06-2.06.94zm10 10l.94 2.06.94-2.06 2.06-.94-2.06-.94-.94-2.06-.94 2.06-2.06.94z\"/><path d=\"M17.41 7.96l-1.37-1.37c-.4-.4-.92-.59-1.43-.59-.52 0-1.04.2-1.43.59L10.3 9.45l-7.72 7.72c-.78.78-.78 2.05 0 2.83L4 21.41c.39.39.9.59 1.41.59.51 0 1.02-.2 1.41-.59l7.78-7.78 2.81-2.81c.8-.78.8-2.07 0-2.86zM5.41 20L4 18.59l7.72-7.72 1.47 1.35L5.41 20z\"/>\n",
              "  </svg>\n",
              "      </button>\n",
              "      \n",
              "  <style>\n",
              "    .colab-df-container {\n",
              "      display:flex;\n",
              "      flex-wrap:wrap;\n",
              "      gap: 12px;\n",
              "    }\n",
              "\n",
              "    .colab-df-convert {\n",
              "      background-color: #E8F0FE;\n",
              "      border: none;\n",
              "      border-radius: 50%;\n",
              "      cursor: pointer;\n",
              "      display: none;\n",
              "      fill: #1967D2;\n",
              "      height: 32px;\n",
              "      padding: 0 0 0 0;\n",
              "      width: 32px;\n",
              "    }\n",
              "\n",
              "    .colab-df-convert:hover {\n",
              "      background-color: #E2EBFA;\n",
              "      box-shadow: 0px 1px 2px rgba(60, 64, 67, 0.3), 0px 1px 3px 1px rgba(60, 64, 67, 0.15);\n",
              "      fill: #174EA6;\n",
              "    }\n",
              "\n",
              "    [theme=dark] .colab-df-convert {\n",
              "      background-color: #3B4455;\n",
              "      fill: #D2E3FC;\n",
              "    }\n",
              "\n",
              "    [theme=dark] .colab-df-convert:hover {\n",
              "      background-color: #434B5C;\n",
              "      box-shadow: 0px 1px 3px 1px rgba(0, 0, 0, 0.15);\n",
              "      filter: drop-shadow(0px 1px 2px rgba(0, 0, 0, 0.3));\n",
              "      fill: #FFFFFF;\n",
              "    }\n",
              "  </style>\n",
              "\n",
              "      <script>\n",
              "        const buttonEl =\n",
              "          document.querySelector('#df-f863d668-d998-454a-bc00-b3fdf2b609aa button.colab-df-convert');\n",
              "        buttonEl.style.display =\n",
              "          google.colab.kernel.accessAllowed ? 'block' : 'none';\n",
              "\n",
              "        async function convertToInteractive(key) {\n",
              "          const element = document.querySelector('#df-f863d668-d998-454a-bc00-b3fdf2b609aa');\n",
              "          const dataTable =\n",
              "            await google.colab.kernel.invokeFunction('convertToInteractive',\n",
              "                                                     [key], {});\n",
              "          if (!dataTable) return;\n",
              "\n",
              "          const docLinkHtml = 'Like what you see? Visit the ' +\n",
              "            '<a target=\"_blank\" href=https://colab.research.google.com/notebooks/data_table.ipynb>data table notebook</a>'\n",
              "            + ' to learn more about interactive tables.';\n",
              "          element.innerHTML = '';\n",
              "          dataTable['output_type'] = 'display_data';\n",
              "          await google.colab.output.renderOutput(dataTable, element);\n",
              "          const docLink = document.createElement('div');\n",
              "          docLink.innerHTML = docLinkHtml;\n",
              "          element.appendChild(docLink);\n",
              "        }\n",
              "      </script>\n",
              "    </div>\n",
              "  </div>\n",
              "  "
            ]
          },
          "metadata": {},
          "execution_count": 15
        }
      ],
      "source": [
        "#YOUR CODE HERE\n",
        "df.describe(include='all')"
      ]
    },
    {
      "cell_type": "markdown",
      "metadata": {
        "id": "lfaUIvk4ie-q"
      },
      "source": [
        "(Optional 2) Drop the column \"Serial No\". This will be helpful to visualize things later on."
      ]
    },
    {
      "cell_type": "code",
      "execution_count": 16,
      "metadata": {
        "collapsed": true,
        "id": "YbIJPW5Fie-q",
        "colab": {
          "base_uri": "https://localhost:8080/",
          "height": 424
        },
        "outputId": "7a42685a-21bf-4ec2-eab5-aed860de31ab"
      },
      "outputs": [
        {
          "output_type": "execute_result",
          "data": {
            "text/plain": [
              "     GRE  TOEFL  Rating  SOP  LOR  CGPA  Research  Admit\n",
              "0    337    118       4  4.5  4.5  9.65         1   0.92\n",
              "1    324    107       4  4.0  4.5  8.87         1   0.76\n",
              "2    316    104       3  3.0  3.5  8.00         1   0.72\n",
              "3    322    110       3  3.5  2.5  8.67         1   0.80\n",
              "4    314    103       2  2.0  3.0  8.21         0   0.65\n",
              "..   ...    ...     ...  ...  ...   ...       ...    ...\n",
              "495  332    108       5  4.5  4.0  9.02         1   0.87\n",
              "496  337    117       5  5.0  5.0  9.87         1   0.96\n",
              "497  330    120       5  4.5  5.0  9.56         1   0.93\n",
              "498  312    103       4  4.0  5.0  8.43         0   0.73\n",
              "499  327    113       4  4.5  4.5  9.04         0   0.84\n",
              "\n",
              "[500 rows x 8 columns]"
            ],
            "text/html": [
              "\n",
              "  <div id=\"df-046f35ca-0a04-45e9-a90e-0732660ba7b6\">\n",
              "    <div class=\"colab-df-container\">\n",
              "      <div>\n",
              "<style scoped>\n",
              "    .dataframe tbody tr th:only-of-type {\n",
              "        vertical-align: middle;\n",
              "    }\n",
              "\n",
              "    .dataframe tbody tr th {\n",
              "        vertical-align: top;\n",
              "    }\n",
              "\n",
              "    .dataframe thead th {\n",
              "        text-align: right;\n",
              "    }\n",
              "</style>\n",
              "<table border=\"1\" class=\"dataframe\">\n",
              "  <thead>\n",
              "    <tr style=\"text-align: right;\">\n",
              "      <th></th>\n",
              "      <th>GRE</th>\n",
              "      <th>TOEFL</th>\n",
              "      <th>Rating</th>\n",
              "      <th>SOP</th>\n",
              "      <th>LOR</th>\n",
              "      <th>CGPA</th>\n",
              "      <th>Research</th>\n",
              "      <th>Admit</th>\n",
              "    </tr>\n",
              "  </thead>\n",
              "  <tbody>\n",
              "    <tr>\n",
              "      <th>0</th>\n",
              "      <td>337</td>\n",
              "      <td>118</td>\n",
              "      <td>4</td>\n",
              "      <td>4.5</td>\n",
              "      <td>4.5</td>\n",
              "      <td>9.65</td>\n",
              "      <td>1</td>\n",
              "      <td>0.92</td>\n",
              "    </tr>\n",
              "    <tr>\n",
              "      <th>1</th>\n",
              "      <td>324</td>\n",
              "      <td>107</td>\n",
              "      <td>4</td>\n",
              "      <td>4.0</td>\n",
              "      <td>4.5</td>\n",
              "      <td>8.87</td>\n",
              "      <td>1</td>\n",
              "      <td>0.76</td>\n",
              "    </tr>\n",
              "    <tr>\n",
              "      <th>2</th>\n",
              "      <td>316</td>\n",
              "      <td>104</td>\n",
              "      <td>3</td>\n",
              "      <td>3.0</td>\n",
              "      <td>3.5</td>\n",
              "      <td>8.00</td>\n",
              "      <td>1</td>\n",
              "      <td>0.72</td>\n",
              "    </tr>\n",
              "    <tr>\n",
              "      <th>3</th>\n",
              "      <td>322</td>\n",
              "      <td>110</td>\n",
              "      <td>3</td>\n",
              "      <td>3.5</td>\n",
              "      <td>2.5</td>\n",
              "      <td>8.67</td>\n",
              "      <td>1</td>\n",
              "      <td>0.80</td>\n",
              "    </tr>\n",
              "    <tr>\n",
              "      <th>4</th>\n",
              "      <td>314</td>\n",
              "      <td>103</td>\n",
              "      <td>2</td>\n",
              "      <td>2.0</td>\n",
              "      <td>3.0</td>\n",
              "      <td>8.21</td>\n",
              "      <td>0</td>\n",
              "      <td>0.65</td>\n",
              "    </tr>\n",
              "    <tr>\n",
              "      <th>...</th>\n",
              "      <td>...</td>\n",
              "      <td>...</td>\n",
              "      <td>...</td>\n",
              "      <td>...</td>\n",
              "      <td>...</td>\n",
              "      <td>...</td>\n",
              "      <td>...</td>\n",
              "      <td>...</td>\n",
              "    </tr>\n",
              "    <tr>\n",
              "      <th>495</th>\n",
              "      <td>332</td>\n",
              "      <td>108</td>\n",
              "      <td>5</td>\n",
              "      <td>4.5</td>\n",
              "      <td>4.0</td>\n",
              "      <td>9.02</td>\n",
              "      <td>1</td>\n",
              "      <td>0.87</td>\n",
              "    </tr>\n",
              "    <tr>\n",
              "      <th>496</th>\n",
              "      <td>337</td>\n",
              "      <td>117</td>\n",
              "      <td>5</td>\n",
              "      <td>5.0</td>\n",
              "      <td>5.0</td>\n",
              "      <td>9.87</td>\n",
              "      <td>1</td>\n",
              "      <td>0.96</td>\n",
              "    </tr>\n",
              "    <tr>\n",
              "      <th>497</th>\n",
              "      <td>330</td>\n",
              "      <td>120</td>\n",
              "      <td>5</td>\n",
              "      <td>4.5</td>\n",
              "      <td>5.0</td>\n",
              "      <td>9.56</td>\n",
              "      <td>1</td>\n",
              "      <td>0.93</td>\n",
              "    </tr>\n",
              "    <tr>\n",
              "      <th>498</th>\n",
              "      <td>312</td>\n",
              "      <td>103</td>\n",
              "      <td>4</td>\n",
              "      <td>4.0</td>\n",
              "      <td>5.0</td>\n",
              "      <td>8.43</td>\n",
              "      <td>0</td>\n",
              "      <td>0.73</td>\n",
              "    </tr>\n",
              "    <tr>\n",
              "      <th>499</th>\n",
              "      <td>327</td>\n",
              "      <td>113</td>\n",
              "      <td>4</td>\n",
              "      <td>4.5</td>\n",
              "      <td>4.5</td>\n",
              "      <td>9.04</td>\n",
              "      <td>0</td>\n",
              "      <td>0.84</td>\n",
              "    </tr>\n",
              "  </tbody>\n",
              "</table>\n",
              "<p>500 rows × 8 columns</p>\n",
              "</div>\n",
              "      <button class=\"colab-df-convert\" onclick=\"convertToInteractive('df-046f35ca-0a04-45e9-a90e-0732660ba7b6')\"\n",
              "              title=\"Convert this dataframe to an interactive table.\"\n",
              "              style=\"display:none;\">\n",
              "        \n",
              "  <svg xmlns=\"http://www.w3.org/2000/svg\" height=\"24px\"viewBox=\"0 0 24 24\"\n",
              "       width=\"24px\">\n",
              "    <path d=\"M0 0h24v24H0V0z\" fill=\"none\"/>\n",
              "    <path d=\"M18.56 5.44l.94 2.06.94-2.06 2.06-.94-2.06-.94-.94-2.06-.94 2.06-2.06.94zm-11 1L8.5 8.5l.94-2.06 2.06-.94-2.06-.94L8.5 2.5l-.94 2.06-2.06.94zm10 10l.94 2.06.94-2.06 2.06-.94-2.06-.94-.94-2.06-.94 2.06-2.06.94z\"/><path d=\"M17.41 7.96l-1.37-1.37c-.4-.4-.92-.59-1.43-.59-.52 0-1.04.2-1.43.59L10.3 9.45l-7.72 7.72c-.78.78-.78 2.05 0 2.83L4 21.41c.39.39.9.59 1.41.59.51 0 1.02-.2 1.41-.59l7.78-7.78 2.81-2.81c.8-.78.8-2.07 0-2.86zM5.41 20L4 18.59l7.72-7.72 1.47 1.35L5.41 20z\"/>\n",
              "  </svg>\n",
              "      </button>\n",
              "      \n",
              "  <style>\n",
              "    .colab-df-container {\n",
              "      display:flex;\n",
              "      flex-wrap:wrap;\n",
              "      gap: 12px;\n",
              "    }\n",
              "\n",
              "    .colab-df-convert {\n",
              "      background-color: #E8F0FE;\n",
              "      border: none;\n",
              "      border-radius: 50%;\n",
              "      cursor: pointer;\n",
              "      display: none;\n",
              "      fill: #1967D2;\n",
              "      height: 32px;\n",
              "      padding: 0 0 0 0;\n",
              "      width: 32px;\n",
              "    }\n",
              "\n",
              "    .colab-df-convert:hover {\n",
              "      background-color: #E2EBFA;\n",
              "      box-shadow: 0px 1px 2px rgba(60, 64, 67, 0.3), 0px 1px 3px 1px rgba(60, 64, 67, 0.15);\n",
              "      fill: #174EA6;\n",
              "    }\n",
              "\n",
              "    [theme=dark] .colab-df-convert {\n",
              "      background-color: #3B4455;\n",
              "      fill: #D2E3FC;\n",
              "    }\n",
              "\n",
              "    [theme=dark] .colab-df-convert:hover {\n",
              "      background-color: #434B5C;\n",
              "      box-shadow: 0px 1px 3px 1px rgba(0, 0, 0, 0.15);\n",
              "      filter: drop-shadow(0px 1px 2px rgba(0, 0, 0, 0.3));\n",
              "      fill: #FFFFFF;\n",
              "    }\n",
              "  </style>\n",
              "\n",
              "      <script>\n",
              "        const buttonEl =\n",
              "          document.querySelector('#df-046f35ca-0a04-45e9-a90e-0732660ba7b6 button.colab-df-convert');\n",
              "        buttonEl.style.display =\n",
              "          google.colab.kernel.accessAllowed ? 'block' : 'none';\n",
              "\n",
              "        async function convertToInteractive(key) {\n",
              "          const element = document.querySelector('#df-046f35ca-0a04-45e9-a90e-0732660ba7b6');\n",
              "          const dataTable =\n",
              "            await google.colab.kernel.invokeFunction('convertToInteractive',\n",
              "                                                     [key], {});\n",
              "          if (!dataTable) return;\n",
              "\n",
              "          const docLinkHtml = 'Like what you see? Visit the ' +\n",
              "            '<a target=\"_blank\" href=https://colab.research.google.com/notebooks/data_table.ipynb>data table notebook</a>'\n",
              "            + ' to learn more about interactive tables.';\n",
              "          element.innerHTML = '';\n",
              "          dataTable['output_type'] = 'display_data';\n",
              "          await google.colab.output.renderOutput(dataTable, element);\n",
              "          const docLink = document.createElement('div');\n",
              "          docLink.innerHTML = docLinkHtml;\n",
              "          element.appendChild(docLink);\n",
              "        }\n",
              "      </script>\n",
              "    </div>\n",
              "  </div>\n",
              "  "
            ]
          },
          "metadata": {},
          "execution_count": 16
        }
      ],
      "source": [
        "#YOUR CODE HERE\n",
        "df.drop(columns=['ID'])"
      ]
    },
    {
      "cell_type": "markdown",
      "metadata": {
        "id": "ST71cjFKie-r"
      },
      "source": [
        "** 3. What is the distribution of the chances of admit? Plot a histogram of this variable. **"
      ]
    },
    {
      "cell_type": "code",
      "execution_count": 17,
      "metadata": {
        "collapsed": true,
        "id": "eZxSELWSie-r",
        "colab": {
          "base_uri": "https://localhost:8080/",
          "height": 317
        },
        "outputId": "0d17ebe5-6412-4300-d77f-2cc1de82d4dd"
      },
      "outputs": [
        {
          "output_type": "execute_result",
          "data": {
            "text/plain": [
              "array([[<matplotlib.axes._subplots.AxesSubplot object at 0x7f3706c4df90>]],\n",
              "      dtype=object)"
            ]
          },
          "metadata": {},
          "execution_count": 17
        },
        {
          "output_type": "display_data",
          "data": {
            "text/plain": [
              "<Figure size 432x288 with 1 Axes>"
            ],
            "image/png": "[encoded data removed]"
          },
          "metadata": {
            "needs_background": "light"
          }
        }
      ],
      "source": [
        "#YOUR CODE HERE\n",
        "df.hist(column='Admit')"
      ]
    },
    {
      "cell_type": "markdown",
      "metadata": {
        "id": "qku8mCTZie-r"
      },
      "source": [
        "** 4. Chances of admit seem to vary quite a bit. How much of this depends on research experience? Print the average chance of admit against research. (this can be done using a groupby) **"
      ]
    },
    {
      "cell_type": "code",
      "execution_count": 18,
      "metadata": {
        "collapsed": true,
        "id": "bM9VI-7aie-r",
        "colab": {
          "base_uri": "https://localhost:8080/"
        },
        "outputId": "40e9326f-9b49-4da5-d737-e0ff51f8e7fe"
      },
      "outputs": [
        {
          "output_type": "execute_result",
          "data": {
            "text/plain": [
              "Research\n",
              "0    0.634909\n",
              "1    0.789964\n",
              "Name: Admit, dtype: float64"
            ]
          },
          "metadata": {},
          "execution_count": 18
        }
      ],
      "source": [
        "#YOUR CODE HERE\n",
        "df.groupby(['Research'])['Admit'].mean()"
      ]
    },
    {
      "cell_type": "markdown",
      "metadata": {
        "id": "ieWVXdqdie-s"
      },
      "source": [
        "** 5. Does the distribution of chances of admit change with university rating? Plot a histogram of chances of admit for each university rating. (Plot 5 histograms) **"
      ]
    },
    {
      "cell_type": "code",
      "execution_count": 19,
      "metadata": {
        "collapsed": true,
        "id": "IKqzJUMBie-s",
        "colab": {
          "base_uri": "https://localhost:8080/",
          "height": 411
        },
        "outputId": "87e4e94f-a70b-4b6c-8b63-81ff77a7d0db"
      },
      "outputs": [
        {
          "output_type": "execute_result",
          "data": {
            "text/plain": [
              "array([[<matplotlib.axes._subplots.AxesSubplot object at 0x7f3706684410>,\n",
              "        <matplotlib.axes._subplots.AxesSubplot object at 0x7f370664b0d0>],\n",
              "       [<matplotlib.axes._subplots.AxesSubplot object at 0x7f37066036d0>,\n",
              "        <matplotlib.axes._subplots.AxesSubplot object at 0x7f3706638cd0>],\n",
              "       [<matplotlib.axes._subplots.AxesSubplot object at 0x7f37065fc510>,\n",
              "        <matplotlib.axes._subplots.AxesSubplot object at 0x7f37065b2b90>]],\n",
              "      dtype=object)"
            ]
          },
          "metadata": {},
          "execution_count": 19
        },
        {
          "output_type": "display_data",
          "data": {
            "text/plain": [
              "<Figure size 432x288 with 6 Axes>"
            ],
            "image/png": "[encoded data removed]"
          },
          "metadata": {
            "needs_background": "light"
          }
        }
      ],
      "source": [
        "#YOUR CODE HERE\n",
        "df.hist (column='Admit', by='Rating')"
      ]
    },
    {
      "cell_type": "markdown",
      "metadata": {
        "id": "TFl8KVEAie-s"
      },
      "source": [
        "** 6. Another way to look at the relationship between two variables is through scatter plots. Plot a scatter plot between TOEFL Score and chance of admit. **"
      ]
    },
    {
      "cell_type": "code",
      "execution_count": 20,
      "metadata": {
        "collapsed": true,
        "id": "nX7ozh9uie-t",
        "colab": {
          "base_uri": "https://localhost:8080/",
          "height": 301
        },
        "outputId": "45d0b0d0-57ac-4585-aae4-b7ddf9324b56"
      },
      "outputs": [
        {
          "output_type": "execute_result",
          "data": {
            "text/plain": [
              "<matplotlib.axes._subplots.AxesSubplot at 0x7f3706459e90>"
            ]
          },
          "metadata": {},
          "execution_count": 20
        },
        {
          "output_type": "display_data",
          "data": {
            "text/plain": [
              "<Figure size 432x288 with 1 Axes>"
            ],
            "image/png": "[encoded data removed]"
          },
          "metadata": {
            "needs_background": "light"
          }
        }
      ],
      "source": [
        "#YOUR CODE HERE\n",
        "df.plot.scatter(x='TOEFL', y='Admit')"
      ]
    },
    {
      "cell_type": "markdown",
      "metadata": {
        "id": "6o2Z38N2ie-t"
      },
      "source": [
        "** 7. Boxplots are also useful to look at the relationship between a categorical variable and a numeric variable. Plot a boxplot of chance of admit grouped by \"University Rating\". (check out seaborn) **"
      ]
    },
    {
      "cell_type": "code",
      "execution_count": 21,
      "metadata": {
        "collapsed": true,
        "id": "9xv72-bUie-t",
        "colab": {
          "base_uri": "https://localhost:8080/",
          "height": 301
        },
        "outputId": "b19edc98-91c6-4ba7-996f-19ab09f843c0"
      },
      "outputs": [
        {
          "output_type": "execute_result",
          "data": {
            "text/plain": [
              "<matplotlib.axes._subplots.AxesSubplot at 0x7f3706383d10>"
            ]
          },
          "metadata": {},
          "execution_count": 21
        },
        {
          "output_type": "display_data",
          "data": {
            "text/plain": [
              "<Figure size 432x288 with 1 Axes>"
            ],
            "image/png": "[encoded data removed]"
          },
          "metadata": {
            "needs_background": "light"
          }
        }
      ],
      "source": [
        "#YOUR CODE HERE\n",
        "sns.boxplot(data=df, x=\"Rating\", y=\"Admit\")"
      ]
    },
    {
      "cell_type": "markdown",
      "metadata": {
        "id": "hmDmgsgNie-t"
      },
      "source": [
        "** 8. Very often it is useful to quantify how strong is the relationship between different variables. For example, measures of correlation, such as Pearson's correlation coefficient, can show whether one numeric variable gives information on another numeric variable. Pandas allows us to compute the Pearson correlation coefficient between all pairs of columns in our dataframe. Display the correlations between all pairs of columns. **"
      ]
    },
    {
      "cell_type": "code",
      "execution_count": 22,
      "metadata": {
        "collapsed": true,
        "id": "x1xCHpFNie-t",
        "colab": {
          "base_uri": "https://localhost:8080/"
        },
        "outputId": "e8c9d107-3085-4004-f48b-3b00a7e25d2e"
      },
      "outputs": [
        {
          "output_type": "stream",
          "name": "stdout",
          "text": [
            "                ID       GRE     TOEFL    Rating       SOP       LOR  \\\n",
            "ID        1.000000 -0.103839 -0.141696 -0.067641 -0.137352 -0.003694   \n",
            "GRE      -0.103839  1.000000  0.827200  0.635376  0.613498  0.524679   \n",
            "TOEFL    -0.141696  0.827200  1.000000  0.649799  0.644410  0.541563   \n",
            "Rating   -0.067641  0.635376  0.649799  1.000000  0.728024  0.608651   \n",
            "SOP      -0.137352  0.613498  0.644410  0.728024  1.000000  0.663707   \n",
            "LOR      -0.003694  0.524679  0.541563  0.608651  0.663707  1.000000   \n",
            "CGPA     -0.074289  0.825878  0.810574  0.705254  0.712154  0.637469   \n",
            "Research -0.005332  0.563398  0.467012  0.427047  0.408116  0.372526   \n",
            "Admit     0.008505  0.810351  0.792228  0.690132  0.684137  0.645365   \n",
            "\n",
            "              CGPA  Research     Admit  \n",
            "ID       -0.074289 -0.005332  0.008505  \n",
            "GRE       0.825878  0.563398  0.810351  \n",
            "TOEFL     0.810574  0.467012  0.792228  \n",
            "Rating    0.705254  0.427047  0.690132  \n",
            "SOP       0.712154  0.408116  0.684137  \n",
            "LOR       0.637469  0.372526  0.645365  \n",
            "CGPA      1.000000  0.501311  0.882413  \n",
            "Research  0.501311  1.000000  0.545871  \n",
            "Admit     0.882413  0.545871  1.000000  \n"
          ]
        }
      ],
      "source": [
        "#YOUR CODE HERE\n",
        "df2=df.corr()\n",
        "print(df2)"
      ]
    },
    {
      "cell_type": "markdown",
      "metadata": {
        "id": "9895PJiIie-t"
      },
      "source": [
        "** 9. Heatmaps are a tool for conveniently visualizing correlation data. Plot these correlations as a seaborn heatmap. Which pairs of variables are most closely correlated? Which variable gives the most information on chance of admit? **"
      ]
    },
    {
      "cell_type": "code",
      "execution_count": 23,
      "metadata": {
        "collapsed": true,
        "id": "HRNC18LZie-u",
        "colab": {
          "base_uri": "https://localhost:8080/",
          "height": 341
        },
        "outputId": "eae03d79-9f35-4843-9c2e-5e5905b0e15d"
      },
      "outputs": [
        {
          "output_type": "stream",
          "name": "stdout",
          "text": [
            "Which pairs of variables are most closely correlated: CGPA & Admit.\n",
            "Which variable gives the most information on chance of admit: CGPA.\n"
          ]
        },
        {
          "output_type": "display_data",
          "data": {
            "text/plain": [
              "<Figure size 432x288 with 2 Axes>"
            ],
            "image/png": "[encoded data removed]"
          },
          "metadata": {
            "needs_background": "light"
          }
        }
      ],
      "source": [
        "#YOUR CODE HERE\n",
        "sns.heatmap(df.corr())\n",
        "print('Which pairs of variables are most closely correlated: CGPA & Admit.')\n",
        "print('Which variable gives the most information on chance of admit: CGPA.')"
      ]
    },
    {
      "cell_type": "markdown",
      "metadata": {
        "id": "xBuepSoeie-u"
      },
      "source": [
        "** 10. Build a linear model to predict the chance of admit using the application info available. Generate predictions and compare predicted quantity to the actual value in a scatter plot. ** Recommendation: try this before Class 2.  We will start on the details of predictive modeling in Class 2, so having tried it first will give you better context for the class.  You can refer to the predictive modeling code at the end of the (Dealing with Data) notebook from the first class."
      ]
    },
    {
      "cell_type": "code",
      "execution_count": 25,
      "metadata": {
        "collapsed": true,
        "id": "kPtqm9whie-u",
        "colab": {
          "base_uri": "https://localhost:8080/",
          "height": 349
        },
        "outputId": "0c649569-0fc4-4c89-f560-f8cfe0899a1a"
      },
      "outputs": [
        {
          "output_type": "stream",
          "name": "stderr",
          "text": [
            "WARNING:matplotlib.legend:No handles with labels found to put in legend.\n"
          ]
        },
        {
          "output_type": "stream",
          "name": "stdout",
          "text": [
            "The coefficients of the linear model is [0.00010278 0.00507137 0.00653708 0.00589419 0.00492864 0.01419237\n",
            " 0.02139691 0.        ]\n"
          ]
        },
        {
          "output_type": "display_data",
          "data": {
            "text/plain": [
              "<Figure size 432x288 with 1 Axes>"
            ],
            "image/png": "[encoded data removed]"
          },
          "metadata": {
            "needs_background": "light"
          }
        }
      ],
      "source": [
        "#YOUR CODE HERE\n",
        "\n",
        "# First we'll need to import the predictive model class that we'll use\n",
        "from sklearn import linear_model \n",
        "\n",
        "# Now, choose a particular kind of linear regression model\n",
        "# Get set up to \"train\" one of those (learn it from data)\n",
        "lasso = linear_model.Lasso(alpha=0.01)\n",
        "\n",
        "# Assemble the training data (we will define all this nomenclature in the next few classes)\n",
        "# Let's use these columns as features and the target variable\n",
        "features = [\"ID\", \"GRE\", \"TOEFL\", \"Rating\", \"SOP\", \"LOR\", \"CGPA\", \"Research\"]\n",
        "target = \"Admit\"\n",
        "\n",
        "# Eliminate (drop) any instances with missing values (NaNs) for now\n",
        "cleaned_df = df.dropna()\n",
        "\n",
        "# Train the model you set up on the data\n",
        "lasso.fit(cleaned_df[features], cleaned_df[target])\n",
        "\n",
        "# Show the coefficients of the linear model\n",
        "print(\"The coefficients of the linear model is\", lasso.coef_)\n",
        "\n",
        "# plot the predictions vs the actual values\n",
        "plt.scatter(cleaned_df[target], lasso.predict(cleaned_df[features]))\n",
        "plt.title(\"Predicted vs Actual Admit (Lasso Regression)\")\n",
        "plt.xlabel(\"Actual Chance of Admit\")\n",
        "plt.ylabel(\"Predicted Chance of Admit\")\n",
        "plt.legend()\n",
        "plt.show()"
      ]
    },
    {
      "cell_type": "markdown",
      "metadata": {
        "id": "fTiWK6LDie-u"
      },
      "source": [
        "** 11. (Optional) There are many different types of predictive models, each with their own plusses and minuses. For this task, repeat your modeling performed in last question, but using a sklearn.ensemble.RandomForestRegressor. How does the scatter plot compare with the prior results? **"
      ]
    },
    {
      "cell_type": "code",
      "execution_count": 32,
      "metadata": {
        "collapsed": true,
        "id": "SsokKE9Hie-u",
        "colab": {
          "base_uri": "https://localhost:8080/",
          "height": 331
        },
        "outputId": "0dd759eb-cae2-4bc8-847e-259b75c42ae2"
      },
      "outputs": [
        {
          "output_type": "stream",
          "name": "stderr",
          "text": [
            "WARNING:matplotlib.legend:No handles with labels found to put in legend.\n"
          ]
        },
        {
          "output_type": "display_data",
          "data": {
            "text/plain": [
              "<Figure size 432x288 with 1 Axes>"
            ],
            "image/png": "[encoded data removed]"
          },
          "metadata": {
            "needs_background": "light"
          }
        },
        {
          "output_type": "stream",
          "name": "stdout",
          "text": [
            "The scatter plot seems to be more concentrated compared to the prior results.\n"
          ]
        }
      ],
      "source": [
        "from sklearn.ensemble import RandomForestRegressor\n",
        "\n",
        "#YOUR CODE HERE\n",
        "# Set up the model\n",
        "rf = RandomForestRegressor(n_estimators=100, max_depth=5, random_state=1)\n",
        "rf.fit(cleaned_df[features], cleaned_df[target])\n",
        "\n",
        "# Plot the predictions vs the actual values\n",
        "plt.scatter(cleaned_df[target], rf.predict(cleaned_df[features]))\n",
        "plt.title(\"Predicted vs Actual Admit (Random Forest Regression)\")\n",
        "plt.xlabel(\"Actual Chance of Admit\")\n",
        "plt.ylabel(\"Predicted Chance of Admit\")\n",
        "plt.legend()\n",
        "plt.show()\n",
        "\n",
        "# How does the scatter plot compare with the prior results? \n",
        "print('The scatter plot seems to be more concentrated compared to the prior results.')\n"
      ]
    },
    {
      "cell_type": "markdown",
      "metadata": {
        "id": "HSDb8pZnie-u"
      },
      "source": []
    }
  ],
  "metadata": {
    "kernelspec": {
      "display_name": "Python 3",
      "language": "python",
      "name": "python3"
    },
    "language_info": {
      "codemirror_mode": {
        "name": "ipython",
        "version": 3
      },
      "file_extension": ".py",
      "mimetype": "text/x-python",
      "name": "python",
      "nbconvert_exporter": "python",
      "pygments_lexer": "ipython3",
      "version": "3.6.5"
    },
    "colab": {
      "provenance": [],
      "collapsed_sections": []
    }
  },
  "nbformat": 4,
  "nbformat_minor": 0
}